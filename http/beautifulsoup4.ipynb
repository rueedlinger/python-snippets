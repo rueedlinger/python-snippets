{
 "cells": [
  {
   "cell_type": "markdown",
   "metadata": {},
   "source": [
    "# Extract the text from a HTML document with Beautiful Soup\n",
    "\n",
    "We start with the following HTML document."
   ]
  },
  {
   "cell_type": "code",
   "execution_count": null,
   "metadata": {
    "collapsed": true
   },
   "outputs": [],
   "source": [
    "html_doc = \"\"\"\n",
    "<html><head><title>My new page</title></head>\n",
    "<body>\n",
    "<p class=\"title\"><b>Cool my new page</b></p>\n",
    "\n",
    "<p class=\"story\">I have written the following articles:\n",
    "<a href=\"http://foo.bar/A1\" class=\"sister\" id=\"link1\">A1</a>,\n",
    "<a href=\"http://foo.bar/A2\" class=\"sister\" id=\"link2\">A2</a>\n",
    "<a href=\"http://foo.bar/A3\" class=\"sister\" id=\"link3\">A3</a>;\n",
    "</p>\n",
    "\n",
    "<p class=\"story\">...</p>\n",
    "\"\"\""
   ]
  },
  {
   "cell_type": "markdown",
   "metadata": {},
   "source": [
    "Let's parse a HTML document. Here we have already the page as string."
   ]
  },
  {
   "cell_type": "code",
   "execution_count": null,
   "metadata": {
    "collapsed": false
   },
   "outputs": [],
   "source": [
    "from bs4 import BeautifulSoup\n",
    "\n",
    "soup = BeautifulSoup(html_doc, 'html.parser')"
   ]
  },
  {
   "cell_type": "markdown",
   "metadata": {},
   "source": [
    "Or you could load the content with urlib.\n",
    "\n",
    "```\n",
    "import urllib.request\n",
    "from BeautifulSoup import BeautifulSoup\n",
    "\n",
    "url = 'https://foo.bar/'\n",
    "req = urllib.request.Request(url, headers={'User-Agent' : \"Magic Browser\"}) \n",
    "con = urllib.request.urlopen( req )\n",
    "html_doc = con.read()\n",
    "\n",
    "soup = BeautifulSoup(html_doc, 'html.parser')\n",
    "```\n"
   ]
  },
  {
   "cell_type": "markdown",
   "metadata": {},
   "source": [
    "We can get the title from the page"
   ]
  },
  {
   "cell_type": "code",
   "execution_count": 13,
   "metadata": {
    "collapsed": false
   },
   "outputs": [
    {
     "data": {
      "text/plain": [
       "'My new page'"
      ]
     },
     "execution_count": 13,
     "metadata": {},
     "output_type": "execute_result"
    }
   ],
   "source": [
    "soup.title.string"
   ]
  },
  {
   "cell_type": "markdown",
   "metadata": {},
   "source": [
    "or all the links in the HTML document."
   ]
  },
  {
   "cell_type": "code",
   "execution_count": 14,
   "metadata": {
    "collapsed": false
   },
   "outputs": [
    {
     "name": "stdout",
     "output_type": "stream",
     "text": [
      "http://foo.bar/A1\n",
      "http://foo.bar/A2\n",
      "http://foo.bar/A3\n"
     ]
    }
   ],
   "source": [
    "for link in soup.find_all('a'):\n",
    "    print(link.get('href'))"
   ]
  },
  {
   "cell_type": "markdown",
   "metadata": {},
   "source": [
    "Of course is very easy to get the plain text from the document without the HTML tags."
   ]
  },
  {
   "cell_type": "code",
   "execution_count": 15,
   "metadata": {
    "collapsed": false
   },
   "outputs": [
    {
     "data": {
      "text/plain": [
       "'\\nMy new page\\n\\nCool my new page\\nI have written the following articles:\\nA1,\\nA2\\nA3;\\n\\n...\\n'"
      ]
     },
     "execution_count": 15,
     "metadata": {},
     "output_type": "execute_result"
    }
   ],
   "source": [
    "soup.text"
   ]
  }
 ],
 "metadata": {
  "kernelspec": {
   "display_name": "Python 3",
   "language": "python",
   "name": "python3"
  },
  "language_info": {
   "codemirror_mode": {
    "name": "ipython",
    "version": 3
   },
   "file_extension": ".py",
   "mimetype": "text/x-python",
   "name": "python",
   "nbconvert_exporter": "python",
   "pygments_lexer": "ipython3",
   "version": "3.5.2"
  }
 },
 "nbformat": 4,
 "nbformat_minor": 2
}
