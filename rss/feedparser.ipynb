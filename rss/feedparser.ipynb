{
 "cells": [
  {
   "cell_type": "markdown",
   "metadata": {},
   "source": [
    "# Parse a RSS feed with feedparser\n",
    "In this Python snippet we use the feedparser package to parse a RSS feed from 'Medium'. \n",
    "- https://medium.com/feed/tag/machine-learning"
   ]
  },
  {
   "cell_type": "markdown",
   "metadata": {},
   "source": [
    "Let's get the RSS feed and parse the content."
   ]
  },
  {
   "cell_type": "code",
   "execution_count": 1,
   "metadata": {},
   "outputs": [],
   "source": [
    "import feedparser\n",
    "\n",
    "url = 'https://medium.com/feed/tag/machine-learning'\n",
    "\n",
    "resp = feedparser.parse(url)"
   ]
  },
  {
   "cell_type": "markdown",
   "metadata": {},
   "source": [
    "We need a function to extract _\"urls\"_ from the text. One of the URL will linkt to the orginal article."
   ]
  },
  {
   "cell_type": "code",
   "execution_count": 2,
   "metadata": {},
   "outputs": [],
   "source": [
    "import re\n",
    "\n",
    "def extract_url(text):\n",
    "    urls = re.findall(r'href=[\\'\"]?([^\\'\" >]+)', text)\n",
    "    return urls"
   ]
  },
  {
   "cell_type": "markdown",
   "metadata": {},
   "source": [
    "Now we iterate over all entries in our feed and display the title and urls which were found in the summary."
   ]
  },
  {
   "cell_type": "code",
   "execution_count": 3,
   "metadata": {},
   "outputs": [
    {
     "name": "stdout",
     "output_type": "stream",
     "text": [
      "Tackling AI bias, keeping up with the MT landscape, new Intento features,  and more!\n",
      "--> https://blog.inten.to/tackling-ai-bias-keeping-up-with-the-mt-landscape-new-intento-features-and-more-ad3e326fd440?source=rss------machine_learning-5 \n",
      "\n",
      "SlimGANs: Real-Time Adjustable Model Sizes\n",
      "--> https://medium.com/syncedreview/slimgans-real-time-adjustable-model-sizes-68a3acf38fb6?source=rss------machine_learning-5 \n",
      "\n",
      "Data Scientist Vs Data Analyst\n",
      "--> https://medium.com/loudupdates/data-scientist-vs-data-analyst-59e836670892?source=rss------machine_learning-5 \n",
      "\n",
      "Unsupervised Recommendations: A Practical Approach\n",
      "--> https://medium.com/asymptoticlabs/unsupervised-recommendations-a-practical-approach-f7df8c530347?source=rss------machine_learning-5 \n",
      "\n",
      "Cinema Challenge— история про 2е место в соревновании рекомендательных систем\n",
      "--> https://medium.com/@ndmelentev/cinema-challenge-%D0%B8%D1%81%D1%82%D0%BE%D1%80%D0%B8%D1%8F-%D0%BF%D1%80%D0%BE-2%D0%B5-%D0%BC%D0%B5%D1%81%D1%82%D0%BE-%D0%B2-%D1%81%D0%BE%D1%80%D0%B5%D0%B2%D0%BD%D0%BE%D0%B2%D0%B0%D0%BD%D0%B8%D0%B8-%D1%80%D0%B5%D0%BA%D0%BE%D0%BC%D0%B5%D0%BD%D0%B4%D0%B0%D1%82%D0%B5%D0%BB%D1%8C%D0%BD%D1%8B%D1%85-%D1%81%D0%B8%D1%81%D1%82%D0%B5%D0%BC-536ad8263513?source=rss------machine_learning-5 \n",
      "\n",
      "Save Time Building With Wit.ai Built-in Intents\n",
      "--> https://medium.com/wit-ai/save-time-building-with-wit-ai-built-in-intents-261be59b4db1?source=rss------machine_learning-5 \n",
      "\n",
      "How to build a good AI model for your startup?\n",
      "--> https://medium.com/ai-quest/how-to-build-a-good-ai-model-for-your-startup-37686b0be9a2?source=rss------machine_learning-5 \n",
      "\n",
      "Sparser Networks — Lottery is here in NLP\n",
      "--> https://medium.com/finsentim/sparser-networks-lottery-is-here-in-nlp-70af5b857cc1?source=rss------machine_learning-5 \n",
      "\n",
      "How to Use Python Datetimes Correctly?\n",
      "--> https://towardsdatascience.com/how-to-use-python-datetimes-correctly-43505e8701ae?source=rss------machine_learning-5 \n",
      "\n",
      "Effortlessly Execute JupyterLab Cells in the Cloud\n",
      "--> https://medium.com/infinstor/effortlessly-execute-jupyterlab-cells-in-the-cloud-822a2910da7b?source=rss------machine_learning-5 \n",
      "\n"
     ]
    }
   ],
   "source": [
    "for r in resp['entries']:\n",
    "    print(r['title'])\n",
    "    urls = extract_url(r['summary'])\n",
    "    if urls:\n",
    "        print('-->', urls[0], '\\n')\n",
    "    "
   ]
  },
  {
   "cell_type": "code",
   "execution_count": null,
   "metadata": {
    "collapsed": true,
    "jupyter": {
     "outputs_hidden": true
    }
   },
   "outputs": [],
   "source": []
  }
 ],
 "metadata": {
  "kernelspec": {
   "display_name": "Python 3",
   "language": "python",
   "name": "python3"
  },
  "language_info": {
   "codemirror_mode": {
    "name": "ipython",
    "version": 3
   },
   "file_extension": ".py",
   "mimetype": "text/x-python",
   "name": "python",
   "nbconvert_exporter": "python",
   "pygments_lexer": "ipython3",
   "version": "3.7.4"
  }
 },
 "nbformat": 4,
 "nbformat_minor": 4
}
