{
 "cells": [
  {
   "cell_type": "markdown",
   "metadata": {},
   "source": [
    "# Parse a RSS feed with feedparser\n",
    "In this Python snippet we use the feedparser package to parse a RSS feed from 'Medium'. \n",
    "- https://medium.com/feed/tag/machine-learning"
   ]
  },
  {
   "cell_type": "markdown",
   "metadata": {},
   "source": [
    "Let's get the RSS feed and parse the content."
   ]
  },
  {
   "cell_type": "code",
   "execution_count": 1,
   "metadata": {},
   "outputs": [],
   "source": [
    "import feedparser\n",
    "\n",
    "url = 'https://medium.com/feed/tag/machine-learning'\n",
    "\n",
    "resp = feedparser.parse(url)"
   ]
  },
  {
   "cell_type": "markdown",
   "metadata": {},
   "source": [
    "We need a function to extract _\"urls\"_ from the text. One of the URL will linkt to the orginal article."
   ]
  },
  {
   "cell_type": "code",
   "execution_count": 2,
   "metadata": {},
   "outputs": [],
   "source": [
    "import re\n",
    "\n",
    "def extract_url(text):\n",
    "    urls = re.findall(r'href=[\\'\"]?([^\\'\" >]+)', text)\n",
    "    return urls"
   ]
  },
  {
   "cell_type": "markdown",
   "metadata": {},
   "source": [
    "Now we iterate over all entries in our feed and display the title and urls which were found in the summary."
   ]
  },
  {
   "cell_type": "code",
   "execution_count": 3,
   "metadata": {},
   "outputs": [
    {
     "name": "stdout",
     "output_type": "stream",
     "text": [
      "Democratização da Ciência de Dados\n",
      "--> https://medium.com/inmetrics/democratizacao-da-ciencia-de-dados-43bc7f2e789d?source=rss------machine_learning-5 \n",
      "\n",
      "Beyond the ROC AUC: Toward Defining Better Performance Metrics\n",
      "--> https://medium.com/@jbohne/beyond-the-roc-auc-toward-defining-better-performance-metrics-b11f5d35adda?source=rss------machine_learning-5 \n",
      "\n",
      "Are you Chinese, Japanese or Korean?\n",
      "--> https://medium.com/@bibekchaudhary/are-you-chinese-japanese-or-korean-93e4bf270a5?source=rss------machine_learning-5 \n",
      "\n",
      "Implementing Adam Optimizer for fast convergence in Neural Networks\n",
      "--> https://medium.com/@2016csb1050/implementing-adam-optimizer-for-fast-convergence-in-neural-networks-47c35ce2c2e3?source=rss------machine_learning-5 \n",
      "\n",
      "Preventing Machine Learning Bias\n",
      "--> https://medium.com/@sajin.stanislav/preventing-machine-learning-bias-d01adfe9f1fa?source=rss------machine_learning-5 \n",
      "\n",
      "Dengue Fever and How to Predict It\n",
      "--> https://medium.com/@bconn992/dengue-fever-and-how-to-predict-it-a32eab1dbb18?source=rss------machine_learning-5 \n",
      "\n",
      "Waiver-Wire-a-Week-Ahead Advice for Fantasy Football Week 9 based on Machine Learning\n",
      "--> https://medium.com/fantasy-outliers/waiver-wire-a-week-ahead-advice-for-fantasy-football-week-9-based-on-machine-learning-d25f05af3464?source=rss------machine_learning-5 \n",
      "\n",
      "Word Embedding Comparison for Disease Named Entity Recognition\n",
      "--> https://medium.com/@aus10_powers/word-embedding-comparison-for-disease-named-entity-recognition-a99850653e1c?source=rss------machine_learning-5 \n",
      "\n",
      "LEARN AI IN ONE WEEK!!!\n",
      "--> https://medium.com/@JeffXu999/learn-ai-in-one-week-2a0e8e65eac8?source=rss------machine_learning-5 \n",
      "\n",
      "Exploratoryデスクトップ v5.0をリリースしました！\n",
      "--> https://blog.exploratory.io/exploratory%E3%83%87%E3%82%B9%E3%82%AF%E3%83%88%E3%83%83%E3%83%97-v5-0%E3%82%92%E3%83%AA%E3%83%AA%E3%83%BC%E3%82%B9%E3%81%97%E3%81%BE%E3%81%97%E3%81%9F-39ef9ea61b8b?source=rss------machine_learning-5 \n",
      "\n"
     ]
    }
   ],
   "source": [
    "for r in resp['entries']:\n",
    "    print(r['title'])\n",
    "    urls = extract_url(r['summary'])\n",
    "    if urls:\n",
    "        print('-->', urls[0], '\\n')\n",
    "    "
   ]
  },
  {
   "cell_type": "code",
   "execution_count": null,
   "metadata": {
    "collapsed": true
   },
   "outputs": [],
   "source": []
  }
 ],
 "metadata": {
  "kernelspec": {
   "display_name": "Python 3",
   "language": "python",
   "name": "python3"
  },
  "language_info": {
   "codemirror_mode": {
    "name": "ipython",
    "version": 3
   },
   "file_extension": ".py",
   "mimetype": "text/x-python",
   "name": "python",
   "nbconvert_exporter": "python",
   "pygments_lexer": "ipython3",
   "version": "3.6.7"
  }
 },
 "nbformat": 4,
 "nbformat_minor": 2
}
