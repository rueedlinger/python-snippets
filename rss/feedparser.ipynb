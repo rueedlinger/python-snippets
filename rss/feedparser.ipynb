{
 "cells": [
  {
   "cell_type": "markdown",
   "metadata": {},
   "source": [
    "# Parse a RSS feed with feedparser\n",
    "In this Python snippte we use the feedparser package to parse a RSS feed from 'Medium'. \n",
    "- https://medium.com/feed/tag/machine-learning"
   ]
  },
  {
   "cell_type": "markdown",
   "metadata": {},
   "source": [
    "Let's get the RSS feed and parse the content."
   ]
  },
  {
   "cell_type": "code",
   "execution_count": 107,
   "metadata": {
    "collapsed": false
   },
   "outputs": [],
   "source": [
    "import feedparser\n",
    "\n",
    "url = 'https://medium.com/feed/tag/machine-learning'\n",
    "\n",
    "resp = feedparser.parse(url)"
   ]
  },
  {
   "cell_type": "markdown",
   "metadata": {},
   "source": [
    "We need a function to extract _\"urls\"_ from the text. One of the URL will linkt to the orginal article."
   ]
  },
  {
   "cell_type": "code",
   "execution_count": 108,
   "metadata": {
    "collapsed": false
   },
   "outputs": [],
   "source": [
    "import re\n",
    "\n",
    "def extract_url(text):\n",
    "    urls = re.findall(r'href=[\\'\"]?([^\\'\" >]+)', text)\n",
    "    return urls"
   ]
  },
  {
   "cell_type": "markdown",
   "metadata": {},
   "source": [
    "Now we iterate over all entries in our feed and display the title and urls which were found in the summary."
   ]
  },
  {
   "cell_type": "code",
   "execution_count": 109,
   "metadata": {
    "collapsed": false
   },
   "outputs": [
    {
     "name": "stdout",
     "output_type": "stream",
     "text": [
      "Computer Vision: Why is This So Difficult?\n",
      "--> https://medium.com/@anishchopra/computer-vision-why-is-this-so-difficult-2b4f22e94efe?source=rss------machine_learning-5 \n",
      "\n",
      "‘messaging first’, and the era of just-in-time user experiences\n",
      "--> https://medium.com/@jdevados/messaging-first-and-the-era-of-just-in-time-user-experiences-256f751e35e2?source=rss------machine_learning-5 \n",
      "\n",
      "Qu’est ce que le Machine Learning ?\n",
      "--> https://medium.com/@redouanechafi/data-science-0-0-quest-ce-que-le-machine-learning-fde2b3c5f19f?source=rss------machine_learning-5 \n",
      "\n",
      "$0.53\n",
      "--> https://medium.com/@vw4motion/0-53-32f819753a47?source=rss------machine_learning-5 \n",
      "\n",
      "The symbolic approach to computerization in healthcare PART 1\n",
      "--> https://medium.com/@CheckDoctor/the-symbolic-approach-to-computerization-in-healthcare-part-1-45f9ae32c517?source=rss------machine_learning-5 \n",
      "\n",
      "Cognitive Computing and the Global Building Industry\n",
      "--> https://medium.com/cognitivebusiness/cognitive-computing-and-the-global-building-industry-1172e375738d?source=rss------machine_learning-5 \n",
      "\n",
      "News — At The Edge — 12/17\n",
      "--> https://medium.com/a-passion-to-evolve/news-at-the-edge-12-17-7d6d780e948e?source=rss------machine_learning-5 \n",
      "\n",
      "IBM Watson ……. Modern day Genghis khan\n",
      "--> https://medium.com/@Cayno_Sadler/ibm-watson-modern-day-genghis-khan-add9b1a58c0?source=rss------machine_learning-5 \n",
      "\n",
      "Machine Learning progress update\n",
      "--> https://medium.com/@laimis/one-month-into-machine-learning-69c041cf2b5a?source=rss------machine_learning-5 \n",
      "\n",
      "Don’t replace your old NVR! Enhance it with oZone!\n",
      "--> https://medium.com/ozone-security/dont-replace-your-old-nvr-enhance-it-with-ozone-14ab2ebd007d?source=rss------machine_learning-5 \n",
      "\n"
     ]
    }
   ],
   "source": [
    "for r in resp['entries']:\n",
    "    print(r['title'])\n",
    "    urls = extract_url(r['summary'])\n",
    "    if urls:\n",
    "        print('-->', urls[0], '\\n')\n",
    "    "
   ]
  },
  {
   "cell_type": "code",
   "execution_count": null,
   "metadata": {
    "collapsed": true
   },
   "outputs": [],
   "source": []
  }
 ],
 "metadata": {
  "kernelspec": {
   "display_name": "Python 3",
   "language": "python",
   "name": "python3"
  },
  "language_info": {
   "codemirror_mode": {
    "name": "ipython",
    "version": 3
   },
   "file_extension": ".py",
   "mimetype": "text/x-python",
   "name": "python",
   "nbconvert_exporter": "python",
   "pygments_lexer": "ipython3",
   "version": "3.5.2"
  }
 },
 "nbformat": 4,
 "nbformat_minor": 2
}
