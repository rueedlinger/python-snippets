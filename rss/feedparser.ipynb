{
 "cells": [
  {
   "cell_type": "markdown",
   "metadata": {},
   "source": [
    "# Parse a RSS feed with feedparser\n",
    "In this Python snippet we use the feedparser package to parse a RSS feed from 'Medium'. \n",
    "- https://medium.com/feed/tag/machine-learning"
   ]
  },
  {
   "cell_type": "markdown",
   "metadata": {},
   "source": [
    "Let's get the RSS feed and parse the content."
   ]
  },
  {
   "cell_type": "code",
   "execution_count": 1,
   "metadata": {},
   "outputs": [],
   "source": [
    "import feedparser\n",
    "\n",
    "url = 'https://medium.com/feed/tag/machine-learning'\n",
    "\n",
    "resp = feedparser.parse(url)"
   ]
  },
  {
   "cell_type": "markdown",
   "metadata": {},
   "source": [
    "We need a function to extract _\"urls\"_ from the text. One of the URL will linkt to the orginal article."
   ]
  },
  {
   "cell_type": "code",
   "execution_count": 2,
   "metadata": {},
   "outputs": [],
   "source": [
    "import re\n",
    "\n",
    "def extract_url(text):\n",
    "    urls = re.findall(r'href=[\\'\"]?([^\\'\" >]+)', text)\n",
    "    return urls"
   ]
  },
  {
   "cell_type": "markdown",
   "metadata": {},
   "source": [
    "Now we iterate over all entries in our feed and display the title and urls which were found in the summary."
   ]
  },
  {
   "cell_type": "code",
   "execution_count": 3,
   "metadata": {},
   "outputs": [
    {
     "name": "stdout",
     "output_type": "stream",
     "text": [
      "5 Amazing and Emerging Machine Learning And AI Trends To Watch In 2021\n",
      "--> https://medium.com/@techstreetlabs/5-amazing-and-emerging-machine-learning-and-ai-trends-to-watch-in-2021-8160a5cb5596?source=rss------machine_learning-5 \n",
      "\n",
      "Exploratory Data Analysis (Part I)\n",
      "--> https://medium.com/analytics-vidhya/exploratory-data-analysis-part-i-7992935f0b9b?source=rss------machine_learning-5 \n",
      "\n",
      "Deploying a NLP model with Docker and FastAPI\n",
      "--> https://medium.com/@marescas/deploying-a-nlp-model-with-docker-and-fastapi-d972779d8008?source=rss------machine_learning-5 \n",
      "\n",
      "Akira’s ML News #Week50, 2020\n",
      "--> https://medium.com/analytics-vidhya/akiras-ml-news-week50-2020-2091f11a72a9?source=rss------machine_learning-5 \n",
      "\n",
      "Node2Vec — Scalable Feature Learning for Networks\n",
      "--> https://medium.com/@prakhar-mishra/node2vec-scalable-feature-learning-for-networks-32fc074ef9e3?source=rss------machine_learning-5 \n",
      "\n",
      "Production Machine Learning Monitoring: Outliers, Drift, Explainers & Statistical Performance\n",
      "--> https://towardsdatascience.com/production-machine-learning-monitoring-outliers-drift-explainers-statistical-performance-d9b1d02ac158?source=rss------machine_learning-5 \n",
      "\n",
      "Transformers Explained Visually (Part 1): Overview of Functionality\n",
      "--> https://towardsdatascience.com/transformers-explained-visually-part-1-overview-of-functionality-95a6dd460452?source=rss------machine_learning-5 \n",
      "\n",
      "Deep Dive into Docker Security\n",
      "--> https://towardsdatascience.com/deep-dive-into-docker-security-59b19ac8d0?source=rss------machine_learning-5 \n",
      "\n",
      "Feature Selection: Embedded Methods\n",
      "--> https://medium.com/analytics-vidhya/feature-selection-embedded-methods-a7940036973f?source=rss------machine_learning-5 \n",
      "\n",
      "Daily Newsletter — 13th December 2020\n",
      "--> https://medium.com/jovianml/daily-newsletter-13th-december-2020-b37626f85a9f?source=rss------machine_learning-5 \n",
      "\n"
     ]
    }
   ],
   "source": [
    "for r in resp['entries']:\n",
    "    print(r['title'])\n",
    "    urls = extract_url(r['summary'])\n",
    "    if urls:\n",
    "        print('-->', urls[0], '\\n')\n",
    "    "
   ]
  },
  {
   "cell_type": "code",
   "execution_count": null,
   "metadata": {
    "collapsed": true,
    "jupyter": {
     "outputs_hidden": true
    }
   },
   "outputs": [],
   "source": []
  }
 ],
 "metadata": {
  "kernelspec": {
   "display_name": "Python 3",
   "language": "python",
   "name": "python3"
  },
  "language_info": {
   "codemirror_mode": {
    "name": "ipython",
    "version": 3
   },
   "file_extension": ".py",
   "mimetype": "text/x-python",
   "name": "python",
   "nbconvert_exporter": "python",
   "pygments_lexer": "ipython3",
   "version": "3.7.4"
  }
 },
 "nbformat": 4,
 "nbformat_minor": 4
}
