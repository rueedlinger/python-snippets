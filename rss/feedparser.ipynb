{
 "cells": [
  {
   "cell_type": "markdown",
   "metadata": {},
   "source": [
    "# Parse a RSS feed with feedparser\n",
    "In this Python snippet we use the feedparser package to parse a RSS feed from 'Medium'. \n",
    "- https://medium.com/feed/tag/machine-learning"
   ]
  },
  {
   "cell_type": "markdown",
   "metadata": {},
   "source": [
    "Let's get the RSS feed and parse the content."
   ]
  },
  {
   "cell_type": "code",
   "execution_count": 1,
   "metadata": {
    "collapsed": false
   },
   "outputs": [],
   "source": [
    "import feedparser\n",
    "\n",
    "url = 'https://medium.com/feed/tag/machine-learning'\n",
    "\n",
    "resp = feedparser.parse(url)"
   ]
  },
  {
   "cell_type": "markdown",
   "metadata": {},
   "source": [
    "We need a function to extract _\"urls\"_ from the text. One of the URL will linkt to the orginal article."
   ]
  },
  {
   "cell_type": "code",
   "execution_count": 2,
   "metadata": {
    "collapsed": false
   },
   "outputs": [],
   "source": [
    "import re\n",
    "\n",
    "def extract_url(text):\n",
    "    urls = re.findall(r'href=[\\'\"]?([^\\'\" >]+)', text)\n",
    "    return urls"
   ]
  },
  {
   "cell_type": "markdown",
   "metadata": {},
   "source": [
    "Now we iterate over all entries in our feed and display the title and urls which were found in the summary."
   ]
  },
  {
   "cell_type": "code",
   "execution_count": 3,
   "metadata": {
    "collapsed": false
   },
   "outputs": [
    {
     "name": "stdout",
     "output_type": "stream",
     "text": [
      "Architecture for IOT applications.\n",
      "--> https://medium.com/@maheshwar.ligade/architecture-for-iot-applications-d50ece031d38?source=rss------machine_learning-5 \n",
      "\n",
      "The Google Brain; redefining mobility; the new factory; Facebook; VR in 2017; fairness …\n",
      "--> https://medium.com/@azeem/the-google-brain-redefining-mobility-the-new-factory-facebook-vr-in-2017-fairness-93cbe8fea61b?source=rss------machine_learning-5 \n",
      "\n",
      "How my computer learnt to diagnose breast cancer.\n",
      "--> https://medium.com/@MaanavKhaitan/how-my-computer-learnt-to-diagnose-breast-cancer-94863def7117?source=rss------machine_learning-5 \n",
      "\n",
      "Machine Learning não é tão difícil quanto dizem\n",
      "--> https://medium.com/@isaacguerreiros/machine-learning-n%C3%A3o-%C3%A9-t%C3%A3o-dif%C3%ADcil-quanto-dizem-60d244232f07?source=rss------machine_learning-5 \n",
      "\n",
      "Training and Validation Loss Mystery in Behavioral Cloning for CNN from Udacity SDC Project 3\n",
      "--> https://medium.com/@KunfengChen/training-and-validation-loss-mystery-in-behavioral-cloning-for-cnn-from-udacity-sdc-project-3-dfe3eda596ba?source=rss------machine_learning-5 \n",
      "\n",
      "Feature Engineering I: Feature Selection\n",
      "--> https://medium.com/@john790215/feature-engineering-step-i-feature-selection-a991f6801b4?source=rss------machine_learning-5 \n",
      "\n",
      "Your AI is only as good as it’s Data\n",
      "--> https://medium.com/ai-blogging/your-ai-is-only-as-good-as-its-data-cb8cb783f351?source=rss------machine_learning-5 \n",
      "\n",
      "Your data project is going to fail\n",
      "--> https://medium.com/@ericdbrown/your-data-project-is-going-to-fail-252c9445457?source=rss------machine_learning-5 \n",
      "\n",
      "Meteorning\n",
      "--> https://medium.com/@nebiljabari/meteorning-b0c27f42f93c?source=rss------machine_learning-5 \n",
      "\n",
      "What I Learnt about Artificial Intelligence in One Chart\n",
      "--> https://medium.com/@suriayang/what-i-learnt-about-artificial-intelligence-in-one-chart-6f8d251673b7?source=rss------machine_learning-5 \n",
      "\n"
     ]
    }
   ],
   "source": [
    "for r in resp['entries']:\n",
    "    print(r['title'])\n",
    "    urls = extract_url(r['summary'])\n",
    "    if urls:\n",
    "        print('-->', urls[0], '\\n')\n",
    "    "
   ]
  },
  {
   "cell_type": "code",
   "execution_count": null,
   "metadata": {
    "collapsed": true
   },
   "outputs": [],
   "source": []
  }
 ],
 "metadata": {
  "kernelspec": {
   "display_name": "Python 3",
   "language": "python",
   "name": "python3"
  },
  "language_info": {
   "codemirror_mode": {
    "name": "ipython",
    "version": 3
   },
   "file_extension": ".py",
   "mimetype": "text/x-python",
   "name": "python",
   "nbconvert_exporter": "python",
   "pygments_lexer": "ipython3",
   "version": "3.5.2"
  }
 },
 "nbformat": 4,
 "nbformat_minor": 2
}
