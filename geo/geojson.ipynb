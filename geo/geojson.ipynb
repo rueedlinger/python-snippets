{
 "cells": [
  {
   "cell_type": "markdown",
   "metadata": {},
   "source": [
    "## GeoJSON Example\n",
    "\n",
    "In this Python snippet we use stations (geographic) from the Swiss public transportation and convert the data to a GeoJSON (http://geojson.org/) file.\n",
    "\n",
    "\n",
    "- Donwload the _'bfkoordgeo.csv'_ file, https://opentransportdata.swiss/en/dataset/bhlist/resource/b92a372f-7843-4ddd-b1c6-c9c6397e1097\n",
    "- Convert the file from ISO-8859-1 to UTF-8\n",
    "\n",
    "```\n",
    "iconv -f ISO-8859-1 -t UTF-8 bfkoordgeo.csv > out.csv\n",
    "```\n",
    "\n",
    "\n",
    "> __Note:__ The data is from the _Open Data Platform Swiss Public Transport_, https://opentransportdata.swiss/en/\n",
    "\n"
   ]
  },
  {
   "cell_type": "code",
   "execution_count": 1,
   "metadata": {
    "collapsed": false
   },
   "outputs": [
    {
     "data": {
      "text/html": [
       "<div>\n",
       "<table border=\"1\" class=\"dataframe\">\n",
       "  <thead>\n",
       "    <tr style=\"text-align: right;\">\n",
       "      <th></th>\n",
       "      <th>StationID</th>\n",
       "      <th>Longitude</th>\n",
       "      <th>Latitude</th>\n",
       "      <th>Height</th>\n",
       "      <th>Remark</th>\n",
       "    </tr>\n",
       "  </thead>\n",
       "  <tbody>\n",
       "    <tr>\n",
       "      <th>0</th>\n",
       "      <td>6.0</td>\n",
       "      <td>7.549783</td>\n",
       "      <td>47.216111</td>\n",
       "      <td>441.0</td>\n",
       "      <td>St. Katharinen</td>\n",
       "    </tr>\n",
       "    <tr>\n",
       "      <th>1</th>\n",
       "      <td>7.0</td>\n",
       "      <td>9.733756</td>\n",
       "      <td>46.922368</td>\n",
       "      <td>744.0</td>\n",
       "      <td>Fideris</td>\n",
       "    </tr>\n",
       "    <tr>\n",
       "      <th>2</th>\n",
       "      <td>11.0</td>\n",
       "      <td>7.389462</td>\n",
       "      <td>47.191804</td>\n",
       "      <td>467.0</td>\n",
       "      <td>Grenchen Nord</td>\n",
       "    </tr>\n",
       "    <tr>\n",
       "      <th>3</th>\n",
       "      <td>16.0</td>\n",
       "      <td>6.513937</td>\n",
       "      <td>46.659019</td>\n",
       "      <td>499.0</td>\n",
       "      <td>La Sarraz, Couronne</td>\n",
       "    </tr>\n",
       "    <tr>\n",
       "      <th>4</th>\n",
       "      <td>22.0</td>\n",
       "      <td>7.589551</td>\n",
       "      <td>47.547405</td>\n",
       "      <td>277.0</td>\n",
       "      <td>Basel SBB</td>\n",
       "    </tr>\n",
       "  </tbody>\n",
       "</table>\n",
       "</div>"
      ],
      "text/plain": [
       "   StationID  Longitude   Latitude  Height               Remark\n",
       "0        6.0   7.549783  47.216111   441.0       St. Katharinen\n",
       "1        7.0   9.733756  46.922368   744.0              Fideris\n",
       "2       11.0   7.389462  47.191804   467.0        Grenchen Nord\n",
       "3       16.0   6.513937  46.659019   499.0  La Sarraz, Couronne\n",
       "4       22.0   7.589551  47.547405   277.0            Basel SBB"
      ]
     },
     "execution_count": 1,
     "metadata": {},
     "output_type": "execute_result"
    }
   ],
   "source": [
    "\n",
    "import pandas as pd\n",
    "\n",
    "df = pd.read_csv('data/bfkoordgeo_utf8.csv')\n",
    "df.head()"
   ]
  },
  {
   "cell_type": "code",
   "execution_count": 2,
   "metadata": {
    "collapsed": false,
    "scrolled": true
   },
   "outputs": [],
   "source": [
    "\n",
    "df = df[df['Longitude'].notnull()]\n",
    "df = df[df['Latitude'].notnull()]\n",
    "\n",
    "#df[df.isnull().any(axis=1)]\n",
    "\n",
    "\n",
    "import geojson as geojson"
   ]
  },
  {
   "cell_type": "code",
   "execution_count": 14,
   "metadata": {
    "collapsed": false
   },
   "outputs": [
    {
     "name": "stdout",
     "output_type": "stream",
     "text": [
      "{\"geometry\": {\"coordinates\": [7.549783000000001, 47.216111], \"type\": \"Point\"}, \"properties\": {\"name\": \"St. Katharinen\"}, \"type\": \"Feature\"}\n"
     ]
    }
   ],
   "source": [
    "\n",
    "\n",
    "values = zip(df['Longitude'], df['Latitude'], df['Remark'])\n",
    "points = [geojson.Feature(geometry=geojson.Point((v[0], v[1])), properties={'name': v[2]}) for v in values]\n",
    "\n",
    "print(points[0])"
   ]
  },
  {
   "cell_type": "code",
   "execution_count": 18,
   "metadata": {
    "collapsed": false
   },
   "outputs": [],
   "source": [
    "\n",
    "\n",
    "geo_collection = geojson.FeatureCollection(points)\n",
    "\n"
   ]
  },
  {
   "cell_type": "code",
   "execution_count": 19,
   "metadata": {
    "collapsed": false
   },
   "outputs": [],
   "source": [
    "dump = geojson.dumps(geo_collection, sort_keys=True)\n",
    "\n"
   ]
  },
  {
   "cell_type": "code",
   "execution_count": 20,
   "metadata": {
    "collapsed": false
   },
   "outputs": [],
   "source": [
    "\n",
    "with open('stations.geojson', 'w') as file:\n",
    "    file.write(dump)\n"
   ]
  },
  {
   "cell_type": "code",
   "execution_count": null,
   "metadata": {
    "collapsed": false
   },
   "outputs": [],
   "source": []
  },
  {
   "cell_type": "code",
   "execution_count": null,
   "metadata": {
    "collapsed": true
   },
   "outputs": [],
   "source": []
  }
 ],
 "metadata": {
  "kernelspec": {
   "display_name": "Python 3",
   "language": "python",
   "name": "python3"
  },
  "language_info": {
   "codemirror_mode": {
    "name": "ipython",
    "version": 3
   },
   "file_extension": ".py",
   "mimetype": "text/x-python",
   "name": "python",
   "nbconvert_exporter": "python",
   "pygments_lexer": "ipython3",
   "version": "3.5.2"
  }
 },
 "nbformat": 4,
 "nbformat_minor": 2
}
